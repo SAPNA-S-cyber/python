{
 "cells": [
  {
   "cell_type": "markdown",
   "id": "c70ed563-573e-4cc3-817f-95eaa143c1d3",
   "metadata": {},
   "source": [
    "while loop"
   ]
  },
  {
   "cell_type": "code",
   "execution_count": 1,
   "id": "e4c81677-6179-4874-bea1-e711744467ff",
   "metadata": {},
   "outputs": [
    {
     "name": "stdout",
     "output_type": "stream",
     "text": [
      "hello\n"
     ]
    },
    {
     "name": "stdin",
     "output_type": "stream",
     "text": [
      "Do you want to loop again? yes\n"
     ]
    },
    {
     "name": "stdout",
     "output_type": "stream",
     "text": [
      "hello\n"
     ]
    },
    {
     "name": "stdin",
     "output_type": "stream",
     "text": [
      "Do you want to loop again? no\n"
     ]
    }
   ],
   "source": [
    "again=\"yes\"\n",
    "while again==\"yes\":\n",
    "    print(\"hello\")\n",
    "    again=input(\"Do you want to loop again?\")"
   ]
  },
  {
   "cell_type": "code",
   "execution_count": 2,
   "id": "d86a2301-42f7-46f0-9a6d-874a707f067e",
   "metadata": {},
   "outputs": [
    {
     "name": "stdout",
     "output_type": "stream",
     "text": [
      "hello\n",
      "hello\n",
      "hello\n",
      "hello\n",
      "hello\n"
     ]
    }
   ],
   "source": [
    "count=1\n",
    "while count<=5:\n",
    "    print(\"hello\")\n",
    "    count+=1"
   ]
  },
  {
   "cell_type": "code",
   "execution_count": 3,
   "id": "c72fc7bc-3b98-4d00-928d-a07b51745ce1",
   "metadata": {},
   "outputs": [
    {
     "name": "stdout",
     "output_type": "stream",
     "text": [
      "1\n",
      "1\n",
      "1\n",
      "1\n",
      "1\n"
     ]
    }
   ],
   "source": [
    "count=1\n",
    "while count<=5:\n",
    "    print(1)\n",
    "    count+=1"
   ]
  },
  {
   "cell_type": "code",
   "execution_count": 6,
   "id": "cd5065af-0297-4f99-b835-0d4d00d59d17",
   "metadata": {},
   "outputs": [
    {
     "name": "stdout",
     "output_type": "stream",
     "text": [
      "sapna 1\n",
      "sapna 2\n",
      "sapna 3\n",
      "sapna 4\n",
      "sapna 5\n",
      "sapna 6\n",
      "sapna 7\n",
      "sapna 8\n",
      "sapna 9\n",
      "sapna 10\n",
      "sapna 11\n",
      "sapna 12\n",
      "sapna 13\n",
      "sapna 14\n",
      "sapna 15\n",
      "sapna 16\n",
      "sapna 17\n",
      "sapna 18\n",
      "sapna 19\n",
      "sapna 20\n",
      "sapna 21\n",
      "sapna 22\n",
      "sapna 23\n"
     ]
    }
   ],
   "source": [
    "i=1\n",
    "while i<24:\n",
    "    print(\"sapna\", i)\n",
    "    i+=1\n"
   ]
  },
  {
   "cell_type": "code",
   "execution_count": 1,
   "id": "8d7032d1-4d83-4085-a499-835a0fbebc6c",
   "metadata": {},
   "outputs": [
    {
     "name": "stdout",
     "output_type": "stream",
     "text": [
      "sapna\n",
      "sapna\n",
      "sapna\n",
      "tanu\n"
     ]
    }
   ],
   "source": [
    "count=0\n",
    "while(count < 3):\n",
    "    count=count + 1\n",
    "    print(\"sapna\")\n",
    "else:\n",
    "    print(\"tanu\")"
   ]
  },
  {
   "cell_type": "code",
   "execution_count": 6,
   "id": "6e3ef2e2-9683-4991-a564-cca5dad3be4b",
   "metadata": {},
   "outputs": [
    {
     "name": "stdin",
     "output_type": "stream",
     "text": [
      "enter the number:  9\n"
     ]
    },
    {
     "name": "stdout",
     "output_type": "stream",
     "text": [
      "the total is... 9\n"
     ]
    },
    {
     "name": "stdin",
     "output_type": "stream",
     "text": [
      "enter the number:  7\n"
     ]
    },
    {
     "name": "stdout",
     "output_type": "stream",
     "text": [
      "the total is... 16\n"
     ]
    },
    {
     "name": "stdin",
     "output_type": "stream",
     "text": [
      "enter the number:  9\n"
     ]
    },
    {
     "name": "stdout",
     "output_type": "stream",
     "text": [
      "the total is... 25\n"
     ]
    },
    {
     "name": "stdin",
     "output_type": "stream",
     "text": [
      "enter the number:  45\n"
     ]
    },
    {
     "name": "stdout",
     "output_type": "stream",
     "text": [
      "the total is... 70\n"
     ]
    }
   ],
   "source": [
    "total=0\n",
    "while total <= 50:\n",
    "    num = int(input('enter the number: '))\n",
    "    total = total + num\n",
    "    print('the total is...',total)"
   ]
  },
  {
   "cell_type": "code",
   "execution_count": 5,
   "id": "3249fcc9-7871-495c-96e8-caa7285752d0",
   "metadata": {},
   "outputs": [
    {
     "name": "stdin",
     "output_type": "stream",
     "text": [
      "enter the number 6\n"
     ]
    },
    {
     "name": "stdout",
     "output_type": "stream",
     "text": [
      "1\n",
      "4\n",
      "9\n",
      "16\n",
      "25\n",
      "36\n"
     ]
    }
   ],
   "source": [
    "a = int(input(\"enter the number\"))\n",
    "i = 1\n",
    "while i<=a:\n",
    "    print(i**2)\n",
    "    i = i+1"
   ]
  },
  {
   "cell_type": "code",
   "execution_count": 8,
   "id": "58e5c434-0e8c-445d-9c95-967a7b9a77e5",
   "metadata": {},
   "outputs": [
    {
     "name": "stdin",
     "output_type": "stream",
     "text": [
      " enter the number:  3\n"
     ]
    },
    {
     "name": "stdout",
     "output_type": "stream",
     "text": [
      " the last number you entered was a 3\n"
     ]
    },
    {
     "name": "stdin",
     "output_type": "stream",
     "text": [
      " enter the number:  2\n"
     ]
    },
    {
     "name": "stdout",
     "output_type": "stream",
     "text": [
      " the last number you entered was a 2\n"
     ]
    },
    {
     "name": "stdin",
     "output_type": "stream",
     "text": [
      " enter the number:  1\n"
     ]
    },
    {
     "name": "stdout",
     "output_type": "stream",
     "text": [
      " the last number you entered was a 1\n"
     ]
    },
    {
     "name": "stdin",
     "output_type": "stream",
     "text": [
      " enter the number:  4\n"
     ]
    },
    {
     "name": "stdout",
     "output_type": "stream",
     "text": [
      " the last number you entered was a 4\n"
     ]
    },
    {
     "name": "stdin",
     "output_type": "stream",
     "text": [
      " enter the number:  7\n"
     ]
    },
    {
     "name": "stdout",
     "output_type": "stream",
     "text": [
      " the last number you entered was a 7\n"
     ]
    }
   ],
   "source": [
    "num=0\n",
    "while num <= 5:\n",
    "    num = int(input(\" enter the number: \"))\n",
    "    print(\" the last number you entered was a\", num)"
   ]
  },
  {
   "cell_type": "code",
   "execution_count": null,
   "id": "986a2347-5325-482a-87ca-895a3b69ff4a",
   "metadata": {},
   "outputs": [],
   "source": []
  }
 ],
 "metadata": {
  "kernelspec": {
   "display_name": "Python 3 (ipykernel)",
   "language": "python",
   "name": "python3"
  },
  "language_info": {
   "codemirror_mode": {
    "name": "ipython",
    "version": 3
   },
   "file_extension": ".py",
   "mimetype": "text/x-python",
   "name": "python",
   "nbconvert_exporter": "python",
   "pygments_lexer": "ipython3",
   "version": "3.11.7"
  }
 },
 "nbformat": 4,
 "nbformat_minor": 5
}
