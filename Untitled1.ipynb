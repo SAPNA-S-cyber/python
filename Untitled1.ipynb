{
 "cells": [
  {
   "cell_type": "code",
   "execution_count": 2,
   "id": "3c66efbc-e30d-4b17-a6c4-75943219992f",
   "metadata": {},
   "outputs": [],
   "source": [
    "# a=\"name\""
   ]
  },
  {
   "cell_type": "code",
   "execution_count": 3,
   "id": "4ebfecfa-50b1-4cff-b1bb-dcb8a79d0db4",
   "metadata": {},
   "outputs": [],
   "source": [
    "# b=\"sapna\""
   ]
  },
  {
   "cell_type": "code",
   "execution_count": 4,
   "id": "20c3b677-da05-47f1-9b57-b2cee64bd951",
   "metadata": {},
   "outputs": [
    {
     "name": "stdout",
     "output_type": "stream",
     "text": [
      "namesapna\n"
     ]
    }
   ],
   "source": [
    "print(a+b)"
   ]
  },
  {
   "cell_type": "code",
   "execution_count": 5,
   "id": "23adfb23-5d7f-4d9e-be1d-753a4a88cdeb",
   "metadata": {},
   "outputs": [
    {
     "name": "stdout",
     "output_type": "stream",
     "text": [
      "name sapna\n"
     ]
    }
   ],
   "source": [
    "print(a+\" \"+b)"
   ]
  },
  {
   "cell_type": "code",
   "execution_count": 6,
   "id": "21d75bd9-3176-4805-a0b1-ea4e9e5dee88",
   "metadata": {},
   "outputs": [],
   "source": [
    "c=20"
   ]
  },
  {
   "cell_type": "code",
   "execution_count": 7,
   "id": "e81bf6db-356b-48aa-83be-fc251917b856",
   "metadata": {},
   "outputs": [
    {
     "name": "stdout",
     "output_type": "stream",
     "text": [
      "50\n"
     ]
    }
   ],
   "source": [
    "print(c+30)\n"
   ]
  },
  {
   "cell_type": "code",
   "execution_count": 8,
   "id": "63de199d-bea1-4d3d-81ba-b0628db53551",
   "metadata": {},
   "outputs": [],
   "source": [
    "a=10"
   ]
  },
  {
   "cell_type": "code",
   "execution_count": 9,
   "id": "38372773-fabb-49fd-b374-2520d14e21ea",
   "metadata": {},
   "outputs": [],
   "source": [
    "b=20"
   ]
  },
  {
   "cell_type": "code",
   "execution_count": 10,
   "id": "5d5d7a48-8eed-4b45-8849-8b50e3f48576",
   "metadata": {},
   "outputs": [
    {
     "name": "stdout",
     "output_type": "stream",
     "text": [
      "30\n"
     ]
    }
   ],
   "source": [
    "print(a+b)"
   ]
  },
  {
   "cell_type": "code",
   "execution_count": 1,
   "id": "0347ebdf-12be-440f-b262-4f7018cea550",
   "metadata": {},
   "outputs": [],
   "source": [
    "# xyz_1=\"apple\""
   ]
  },
  {
   "cell_type": "code",
   "execution_count": 2,
   "id": "9c9aec5e-34ec-4525-a678-e14cd34c0faa",
   "metadata": {},
   "outputs": [
    {
     "name": "stdout",
     "output_type": "stream",
     "text": [
      "apple\n"
     ]
    }
   ],
   "source": [
    "print(xyz_1)"
   ]
  },
  {
   "cell_type": "code",
   "execution_count": 3,
   "id": "cb5d5451-b4c5-4e98-ac67-aafae0c15de1",
   "metadata": {},
   "outputs": [
    {
     "name": "stdout",
     "output_type": "stream",
     "text": [
      "1960643968432\n"
     ]
    }
   ],
   "source": [
    "print(id(xyz_1))"
   ]
  },
  {
   "cell_type": "code",
   "execution_count": 4,
   "id": "a3d8cef1-5eff-4983-b1c8-84556a4e0d97",
   "metadata": {},
   "outputs": [
    {
     "name": "stdout",
     "output_type": "stream",
     "text": [
      "<class 'str'>\n"
     ]
    }
   ],
   "source": [
    "print(type(xyz_1))"
   ]
  },
  {
   "cell_type": "code",
   "execution_count": 5,
   "id": "4e756401-851c-4938-952a-41dcf28c01c0",
   "metadata": {},
   "outputs": [],
   "source": [
    "x=23"
   ]
  },
  {
   "cell_type": "code",
   "execution_count": 6,
   "id": "7fa0db10-68af-4d1d-8f5c-e11a5c7ba6c9",
   "metadata": {},
   "outputs": [],
   "source": [
    "y=30"
   ]
  },
  {
   "cell_type": "code",
   "execution_count": 7,
   "id": "15b13380-f6ac-4bc0-b5a9-20f260a7433e",
   "metadata": {},
   "outputs": [
    {
     "name": "stdout",
     "output_type": "stream",
     "text": [
      "<class 'int'>\n"
     ]
    }
   ],
   "source": [
    "print(type(x+y))"
   ]
  },
  {
   "cell_type": "code",
   "execution_count": 8,
   "id": "671e5349-09ff-46ea-a5e6-c7eee4f02d30",
   "metadata": {},
   "outputs": [
    {
     "name": "stdout",
     "output_type": "stream",
     "text": [
      "53\n"
     ]
    }
   ],
   "source": [
    "print(x+y)"
   ]
  },
  {
   "cell_type": "code",
   "execution_count": 9,
   "id": "6d9f092a-e461-46a5-b8a3-557aec383e0e",
   "metadata": {},
   "outputs": [],
   "source": [
    "# a='23'"
   ]
  },
  {
   "cell_type": "code",
   "execution_count": 10,
   "id": "722eb2dc-500c-4f3a-bb1b-984d40e94799",
   "metadata": {},
   "outputs": [],
   "source": [
    "# b='10'"
   ]
  },
  {
   "cell_type": "code",
   "execution_count": 11,
   "id": "66ef82b4-8ee1-474f-9370-013bd1edbfdf",
   "metadata": {},
   "outputs": [
    {
     "name": "stdout",
     "output_type": "stream",
     "text": [
      "2310\n"
     ]
    }
   ],
   "source": [
    "print(a+b)"
   ]
  },
  {
   "cell_type": "code",
   "execution_count": 12,
   "id": "8c38b4c1-162c-451c-9d36-b8e7e7bbc9d5",
   "metadata": {},
   "outputs": [],
   "source": [
    "# a=12"
   ]
  },
  {
   "cell_type": "code",
   "execution_count": 13,
   "id": "a1665b00-8224-48e5-a45d-6601e5f853df",
   "metadata": {},
   "outputs": [],
   "source": [
    "# b=43"
   ]
  },
  {
   "cell_type": "code",
   "execution_count": 14,
   "id": "456d59d4-22da-43d5-bf1f-af90b71ba4b4",
   "metadata": {},
   "outputs": [
    {
     "name": "stdout",
     "output_type": "stream",
     "text": [
      "55\n"
     ]
    }
   ],
   "source": [
    "print(a+b)"
   ]
  },
  {
   "cell_type": "code",
   "execution_count": 15,
   "id": "3cf5265b-9cd3-447c-bf59-bd93b1b34476",
   "metadata": {},
   "outputs": [
    {
     "name": "stdout",
     "output_type": "stream",
     "text": [
      "-31\n"
     ]
    }
   ],
   "source": [
    "print(a-b)"
   ]
  },
  {
   "cell_type": "code",
   "execution_count": 16,
   "id": "c6946117-39a8-45e5-8190-5e8993d5e0ba",
   "metadata": {},
   "outputs": [
    {
     "name": "stdout",
     "output_type": "stream",
     "text": [
      "516\n"
     ]
    }
   ],
   "source": [
    "print(a*b)"
   ]
  },
  {
   "cell_type": "code",
   "execution_count": 18,
   "id": "5352e27d-1db4-43d6-89cc-7079cd8f8452",
   "metadata": {},
   "outputs": [
    {
     "name": "stdout",
     "output_type": "stream",
     "text": [
      "3.5833333333333335\n"
     ]
    }
   ],
   "source": [
    "print(b/a)"
   ]
  },
  {
   "cell_type": "code",
   "execution_count": 21,
   "id": "e5b971c9-be64-46a4-81cf-9afa767629f9",
   "metadata": {},
   "outputs": [
    {
     "name": "stdout",
     "output_type": "stream",
     "text": [
      "25397652694505813866070015990659936347412758528\n"
     ]
    }
   ],
   "source": [
    "print(a**b)"
   ]
  },
  {
   "cell_type": "code",
   "execution_count": 22,
   "id": "fcabaa4b-a41a-40e6-b464-fd270efaaf56",
   "metadata": {},
   "outputs": [
    {
     "name": "stdout",
     "output_type": "stream",
     "text": [
      "7\n"
     ]
    }
   ],
   "source": [
    "print(b%a)"
   ]
  },
  {
   "cell_type": "code",
   "execution_count": 23,
   "id": "eb86e4ce-574c-4aec-af44-a42fb2ec04a9",
   "metadata": {},
   "outputs": [
    {
     "name": "stdout",
     "output_type": "stream",
     "text": [
      "14\n"
     ]
    }
   ],
   "source": [
    "print(b//3)"
   ]
  },
  {
   "cell_type": "code",
   "execution_count": 24,
   "id": "510c9b43-9476-4e96-8612-67c5e5cc08a7",
   "metadata": {},
   "outputs": [
    {
     "name": "stdout",
     "output_type": "stream",
     "text": [
      "3.5833333333333335\n"
     ]
    }
   ],
   "source": [
    "print(b/a)"
   ]
  },
  {
   "cell_type": "code",
   "execution_count": 28,
   "id": "cd1cef75-1aff-4610-8449-e5d73d63e775",
   "metadata": {},
   "outputs": [],
   "source": [
    " x=30"
   ]
  },
  {
   "cell_type": "code",
   "execution_count": 29,
   "id": "8b414fdf-6e4c-4b9a-bb21-300247b6036d",
   "metadata": {},
   "outputs": [
    {
     "name": "stdout",
     "output_type": "stream",
     "text": [
      "30\n"
     ]
    }
   ],
   "source": [
    "print(x)"
   ]
  },
  {
   "cell_type": "code",
   "execution_count": 30,
   "id": "b90eb906-e97a-4caa-9a0c-b1ecf6cfbf57",
   "metadata": {},
   "outputs": [],
   "source": [
    "x=x+5"
   ]
  },
  {
   "cell_type": "code",
   "execution_count": 31,
   "id": "571e7701-ddbe-462a-89cf-677cc7dedccd",
   "metadata": {},
   "outputs": [
    {
     "name": "stdout",
     "output_type": "stream",
     "text": [
      "35\n"
     ]
    }
   ],
   "source": [
    "print(x)"
   ]
  },
  {
   "cell_type": "code",
   "execution_count": 32,
   "id": "b68f0289-c320-4609-8164-1315c83b70b1",
   "metadata": {},
   "outputs": [],
   "source": [
    "x=x-5"
   ]
  },
  {
   "cell_type": "code",
   "execution_count": 33,
   "id": "6b068c65-e8d9-45d4-b8ef-40d866dcc780",
   "metadata": {},
   "outputs": [
    {
     "name": "stdout",
     "output_type": "stream",
     "text": [
      "30\n"
     ]
    }
   ],
   "source": [
    "print(x)"
   ]
  },
  {
   "cell_type": "code",
   "execution_count": 34,
   "id": "d615cd6e-f2f4-41fd-8228-60d4092791da",
   "metadata": {},
   "outputs": [],
   "source": [
    "x+=5"
   ]
  },
  {
   "cell_type": "code",
   "execution_count": 35,
   "id": "a155b436-3972-4316-a963-a85f6922c0ff",
   "metadata": {},
   "outputs": [
    {
     "name": "stdout",
     "output_type": "stream",
     "text": [
      "35\n"
     ]
    }
   ],
   "source": [
    "print(x)"
   ]
  },
  {
   "cell_type": "code",
   "execution_count": 36,
   "id": "e1eefe5a-84d4-418d-af51-fa588e7f620b",
   "metadata": {},
   "outputs": [
    {
     "name": "stdout",
     "output_type": "stream",
     "text": [
      "<class 'int'>\n"
     ]
    }
   ],
   "source": [
    "print(type(x))"
   ]
  },
  {
   "cell_type": "code",
   "execution_count": 37,
   "id": "300115de-10a5-4ef9-9751-f971786c0540",
   "metadata": {},
   "outputs": [],
   "source": [
    "y=20"
   ]
  },
  {
   "cell_type": "code",
   "execution_count": 38,
   "id": "98435b9a-bdc4-4b1b-ba24-f4e2e6582c41",
   "metadata": {},
   "outputs": [
    {
     "name": "stdout",
     "output_type": "stream",
     "text": [
      "False\n"
     ]
    }
   ],
   "source": [
    "print(x==y)"
   ]
  },
  {
   "cell_type": "code",
   "execution_count": 39,
   "id": "6126a1e2-8049-4145-b9d8-541928916bbf",
   "metadata": {},
   "outputs": [
    {
     "name": "stdout",
     "output_type": "stream",
     "text": [
      "True\n"
     ]
    }
   ],
   "source": [
    "print(x!=y)"
   ]
  },
  {
   "cell_type": "code",
   "execution_count": 40,
   "id": "639b63db-41c2-468e-8089-b814c8d66ee7",
   "metadata": {},
   "outputs": [
    {
     "name": "stdout",
     "output_type": "stream",
     "text": [
      "False\n"
     ]
    }
   ],
   "source": [
    "print(x<y)"
   ]
  },
  {
   "cell_type": "code",
   "execution_count": 41,
   "id": "47fe2d82-7348-4411-9461-1369447a2187",
   "metadata": {},
   "outputs": [
    {
     "name": "stdout",
     "output_type": "stream",
     "text": [
      "True\n"
     ]
    }
   ],
   "source": [
    "print(x>y)"
   ]
  },
  {
   "cell_type": "code",
   "execution_count": null,
   "id": "197f472c-da67-46f8-a984-475ae44d91f4",
   "metadata": {},
   "outputs": [],
   "source": []
  }
 ],
 "metadata": {
  "kernelspec": {
   "display_name": "Python 3 (ipykernel)",
   "language": "python",
   "name": "python3"
  },
  "language_info": {
   "codemirror_mode": {
    "name": "ipython",
    "version": 3
   },
   "file_extension": ".py",
   "mimetype": "text/x-python",
   "name": "python",
   "nbconvert_exporter": "python",
   "pygments_lexer": "ipython3",
   "version": "3.11.7"
  }
 },
 "nbformat": 4,
 "nbformat_minor": 5
}
