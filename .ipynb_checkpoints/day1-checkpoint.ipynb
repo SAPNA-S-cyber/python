{
 "cells": [
  {
   "cell_type": "markdown",
   "id": "5ec09226-fad5-4da9-beff-ed7e209ebd9e",
   "metadata": {},
   "source": [
    "writting the first program \"\"hello world\"............................"
   ]
  },
  {
   "cell_type": "code",
   "execution_count": 2,
   "id": "d3db70a1-0e43-49bf-9c3d-e26e3319e0d3",
   "metadata": {},
   "outputs": [
    {
     "name": "stdout",
     "output_type": "stream",
     "text": [
      "Hello world\n"
     ]
    }
   ],
   "source": [
    "print('Hello world')"
   ]
  },
  {
   "cell_type": "code",
   "execution_count": 4,
   "id": "7b8abffc-4a8e-46b3-b1fc-50e258f51a69",
   "metadata": {},
   "outputs": [
    {
     "name": "stdout",
     "output_type": "stream",
     "text": [
      "sapna verma\n"
     ]
    }
   ],
   "source": [
    "a='sapna'\n",
    "b='verma'\n",
    "print(a+' '+b)"
   ]
  },
  {
   "cell_type": "markdown",
   "id": "6f22ed45-f1cf-4a57-9bea-d24f6b2ad344",
   "metadata": {},
   "source": [
    "python comments............................."
   ]
  },
  {
   "cell_type": "code",
   "execution_count": 5,
   "id": "c9658ac5-3d5c-4a34-b918-293a2be26572",
   "metadata": {},
   "outputs": [
    {
     "name": "stdout",
     "output_type": "stream",
     "text": [
      "hello world\n"
     ]
    }
   ],
   "source": [
    "# this is a comment\n",
    "print('hello world')"
   ]
  },
  {
   "cell_type": "code",
   "execution_count": 7,
   "id": "de3011e4-69f6-4540-b818-ab2db4f08458",
   "metadata": {},
   "outputs": [
    {
     "name": "stdout",
     "output_type": "stream",
     "text": [
      "hello world\n"
     ]
    }
   ],
   "source": [
    "print('hello world')#this is a comment"
   ]
  },
  {
   "cell_type": "code",
   "execution_count": 8,
   "id": "59f3b01f-5aca-4e8e-b4d7-e061da309b0c",
   "metadata": {},
   "outputs": [],
   "source": [
    "     #this is a comment\n",
    "     #written in \n",
    "     #more than just one line"
   ]
  },
  {
   "cell_type": "code",
   "execution_count": 11,
   "id": "55f9aa94-4d3f-4cc1-a40c-9b8450abbea1",
   "metadata": {},
   "outputs": [
    {
     "name": "stdout",
     "output_type": "stream",
     "text": [
      " This is a comment\n",
      "written in\n",
      "more than just one line\n"
     ]
    }
   ],
   "source": [
    "A=''' This is a comment\n",
    "written in\n",
    "more than just one line'''\n",
    "print(A)"
   ]
  },
  {
   "cell_type": "code",
   "execution_count": 14,
   "id": "697ef52f-5114-4352-83ee-f17b35a92d77",
   "metadata": {},
   "outputs": [
    {
     "name": "stdout",
     "output_type": "stream",
     "text": [
      " Hey i am good girl \n",
      "and my name is sonam\n"
     ]
    }
   ],
   "source": [
    "print(\" Hey i am good girl \\nand my name is sonam\" )"
   ]
  },
  {
   "cell_type": "markdown",
   "id": "f3bebf60-9312-4ed3-8240-8938c11ab6c6",
   "metadata": {},
   "source": [
    "variabes & operators in python................................."
   ]
  },
  {
   "cell_type": "code",
   "execution_count": 16,
   "id": "0abbfa9c-56da-4c33-b579-f0867e837beb",
   "metadata": {},
   "outputs": [
    {
     "name": "stdout",
     "output_type": "stream",
     "text": [
      "5\n",
      "apple\n"
     ]
    }
   ],
   "source": [
    "x=5\n",
    "y=\"apple\"\n",
    "print(x)\n",
    "print(y)"
   ]
  },
  {
   "cell_type": "markdown",
   "id": "5d4929da-7141-471d-81fd-c2c750657f16",
   "metadata": {},
   "source": [
    "many values to multiple variables......................................"
   ]
  },
  {
   "cell_type": "code",
   "execution_count": 17,
   "id": "e1547753-6f0d-4f59-9a27-051c6a81e37e",
   "metadata": {},
   "outputs": [
    {
     "name": "stdout",
     "output_type": "stream",
     "text": [
      "orange\n",
      "manngo\n",
      "cherry\n"
     ]
    }
   ],
   "source": [
    "x,y,z=\"orange\",\"manngo\",\"cherry\"\n",
    "print(x)\n",
    "print(y)\n",
    "print(z)"
   ]
  },
  {
   "cell_type": "code",
   "execution_count": 20,
   "id": "044bb8a1-7546-4948-b41d-3eab10c7bbf3",
   "metadata": {},
   "outputs": [
    {
     "name": "stdout",
     "output_type": "stream",
     "text": [
      "sapna\n",
      "sapna\n",
      "sapna\n"
     ]
    }
   ],
   "source": [
    "x=y=z=\"sapna\"\n",
    "print(x)\n",
    "print(z)\n",
    "print(x)"
   ]
  },
  {
   "cell_type": "markdown",
   "id": "1eff084d-fe72-41d3-b3e7-6428296c3b9a",
   "metadata": {},
   "source": [
    "python output variables........................................"
   ]
  },
  {
   "cell_type": "code",
   "execution_count": 21,
   "id": "f22075c2-3b36-436d-a3ff-dca1f64be96e",
   "metadata": {},
   "outputs": [
    {
     "name": "stdout",
     "output_type": "stream",
     "text": [
      "Python is nice\n"
     ]
    }
   ],
   "source": [
    "x=\"Python\"\n",
    "y=\"is\"\n",
    "z=\"nice\"\n",
    "print(x,y,z)"
   ]
  },
  {
   "cell_type": "markdown",
   "id": "2eb2e707-139e-434f-a9c3-d422cf07fec0",
   "metadata": {},
   "source": [
    "operators:arthmatic"
   ]
  },
  {
   "cell_type": "markdown",
   "id": "fe422146-e661-438b-b521-4979f1a1d0fa",
   "metadata": {},
   "source": [
    "addition................................................."
   ]
  },
  {
   "cell_type": "code",
   "execution_count": 1,
   "id": "a590e218-de71-4ebd-ab49-3c3d0100facd",
   "metadata": {},
   "outputs": [
    {
     "name": "stdout",
     "output_type": "stream",
     "text": [
      "13\n"
     ]
    }
   ],
   "source": [
    "x=4\n",
    "y=9\n",
    "print(x+y)"
   ]
  },
  {
   "cell_type": "code",
   "execution_count": 2,
   "id": "f62644f9-e9e6-4264-a4bf-ccc5448ae609",
   "metadata": {},
   "outputs": [
    {
     "name": "stdout",
     "output_type": "stream",
     "text": [
      "5.2\n"
     ]
    }
   ],
   "source": [
    "a=3.2\n",
    "b=2\n",
    "print(a+b)"
   ]
  },
  {
   "cell_type": "code",
   "execution_count": 4,
   "id": "da379fbf-a75f-4baf-85bb-327deb62e04e",
   "metadata": {},
   "outputs": [
    {
     "name": "stdout",
     "output_type": "stream",
     "text": [
      "(7+4j)\n"
     ]
    }
   ],
   "source": [
    "a=3+4j\n",
    "b=4\n",
    "print(a+b)"
   ]
  },
  {
   "cell_type": "code",
   "execution_count": 5,
   "id": "74d3db8d-d488-4021-97ba-97732b9728ee",
   "metadata": {},
   "outputs": [
    {
     "name": "stdout",
     "output_type": "stream",
     "text": [
      "hellosapna\n"
     ]
    }
   ],
   "source": [
    "a=\"hello\"\n",
    "b=\"sapna\"\n",
    "print(a+b)"
   ]
  },
  {
   "cell_type": "code",
   "execution_count": 9,
   "id": "fa8e3190-bfcc-4c8b-92d4-87305a98c666",
   "metadata": {},
   "outputs": [
    {
     "name": "stdout",
     "output_type": "stream",
     "text": [
      "(15.6+4j)\n"
     ]
    }
   ],
   "source": [
    "a=3.4\n",
    "b=9.2\n",
    "c=3+4j\n",
    "d=a+b+c\n",
    "print(d)"
   ]
  },
  {
   "cell_type": "markdown",
   "id": "99e60e26-d93f-4e83-b9e8-be9e23dc0679",
   "metadata": {},
   "source": [
    "subtraction:"
   ]
  },
  {
   "cell_type": "code",
   "execution_count": 10,
   "id": "56748803-13b4-420a-81db-2b01d2e18aca",
   "metadata": {},
   "outputs": [
    {
     "name": "stdout",
     "output_type": "stream",
     "text": [
      "22\n"
     ]
    }
   ],
   "source": [
    "a=56\n",
    "b=34\n",
    "print(a-b)"
   ]
  },
  {
   "cell_type": "code",
   "execution_count": 11,
   "id": "4801ead0-ce13-496b-aeca-aee81d288d01",
   "metadata": {},
   "outputs": [],
   "source": [
    "a=3.4\n",
    "b=2.1"
   ]
  },
  {
   "cell_type": "code",
   "execution_count": 12,
   "id": "3020072e-b0f6-4a57-905b-284a1524b6eb",
   "metadata": {},
   "outputs": [
    {
     "name": "stdout",
     "output_type": "stream",
     "text": [
      "1.2999999999999998\n"
     ]
    }
   ],
   "source": [
    "print(a-b)"
   ]
  },
  {
   "cell_type": "code",
   "execution_count": 13,
   "id": "45c89060-6868-4bcd-8666-e0daa7808ab5",
   "metadata": {},
   "outputs": [],
   "source": [
    "x=2+2j\n",
    "y=4+67j"
   ]
  },
  {
   "cell_type": "code",
   "execution_count": 14,
   "id": "7c9d6ae0-2481-4c87-9886-50a4fcdd27a4",
   "metadata": {},
   "outputs": [
    {
     "name": "stdout",
     "output_type": "stream",
     "text": [
      "(2+65j)\n"
     ]
    }
   ],
   "source": [
    "print(y-x)"
   ]
  },
  {
   "cell_type": "code",
   "execution_count": 15,
   "id": "3900100c-ae71-4f78-ad31-280b65edc298",
   "metadata": {},
   "outputs": [
    {
     "name": "stdout",
     "output_type": "stream",
     "text": [
      "1\n"
     ]
    }
   ],
   "source": [
    "a=4\n",
    "b=3\n",
    "c=a-b\n",
    "print(c)"
   ]
  },
  {
   "cell_type": "code",
   "execution_count": 16,
   "id": "b3eb4aee-6b0d-40ec-baa7-94612b44266c",
   "metadata": {},
   "outputs": [
    {
     "name": "stdout",
     "output_type": "stream",
     "text": [
      "<class 'int'>\n"
     ]
    }
   ],
   "source": [
    "print(type(c))"
   ]
  },
  {
   "cell_type": "code",
   "execution_count": 17,
   "id": "abe33fb5-28d3-4595-bbcd-28ee03d036ed",
   "metadata": {},
   "outputs": [
    {
     "name": "stdout",
     "output_type": "stream",
     "text": [
      "140731212874536\n"
     ]
    }
   ],
   "source": [
    "print(id(c))"
   ]
  },
  {
   "cell_type": "code",
   "execution_count": 18,
   "id": "bdb256ad-49f9-4714-af05-7122633cf710",
   "metadata": {},
   "outputs": [
    {
     "name": "stdout",
     "output_type": "stream",
     "text": [
      "(15+6j)\n"
     ]
    }
   ],
   "source": [
    "a=34\n",
    "b=21\n",
    "c=2+6j\n",
    "print((a-b)+c)"
   ]
  },
  {
   "cell_type": "markdown",
   "id": "f0a3dd16-64d9-41e3-bde7-5e7ce6bb1c22",
   "metadata": {},
   "source": [
    "multiplication:..........................................."
   ]
  },
  {
   "cell_type": "code",
   "execution_count": 19,
   "id": "51492244-9f0e-45c8-bca5-8af2da8d428b",
   "metadata": {},
   "outputs": [
    {
     "name": "stdout",
     "output_type": "stream",
     "text": [
      "102\n"
     ]
    }
   ],
   "source": [
    "x=34\n",
    "y=3\n",
    "print(x*y)"
   ]
  },
  {
   "cell_type": "code",
   "execution_count": 20,
   "id": "f6504f27-b373-4671-b189-9eb30a3f3caa",
   "metadata": {},
   "outputs": [
    {
     "name": "stdout",
     "output_type": "stream",
     "text": [
      "16.32\n"
     ]
    }
   ],
   "source": [
    "z=2.4\n",
    "k=6.8\n",
    "j=z*k\n",
    "print(j)"
   ]
  },
  {
   "cell_type": "code",
   "execution_count": 23,
   "id": "12a7b42a-3d76-48d6-a768-22f56d407e77",
   "metadata": {},
   "outputs": [
    {
     "name": "stdout",
     "output_type": "stream",
     "text": [
      "<class 'complex'>\n"
     ]
    }
   ],
   "source": [
    "a=2+7j\n",
    "b=3+4j\n",
    "print(type(a*b))"
   ]
  },
  {
   "cell_type": "markdown",
   "id": "a854b627-a51d-4c47-be73-649a0dbc5af9",
   "metadata": {},
   "source": [
    "division.........................."
   ]
  },
  {
   "cell_type": "code",
   "execution_count": 25,
   "id": "7585abb3-5a50-4f12-989d-c134bfb21b81",
   "metadata": {},
   "outputs": [
    {
     "name": "stdout",
     "output_type": "stream",
     "text": [
      "15.0\n"
     ]
    }
   ],
   "source": [
    "a=45\n",
    "b=3\n",
    "c=a/b\n",
    "print(c)"
   ]
  },
  {
   "cell_type": "code",
   "execution_count": 26,
   "id": "6b8b761f-b9ed-44ee-8226-8036847285de",
   "metadata": {},
   "outputs": [
    {
     "name": "stdout",
     "output_type": "stream",
     "text": [
      "<class 'int'>\n"
     ]
    }
   ],
   "source": [
    "print(type(a))"
   ]
  },
  {
   "cell_type": "code",
   "execution_count": 27,
   "id": "3be45009-c8d7-4f2b-97bb-e4a1a23a56a7",
   "metadata": {},
   "outputs": [],
   "source": [
    "a=3.4567\n",
    "b=5.09346217"
   ]
  },
  {
   "cell_type": "code",
   "execution_count": 28,
   "id": "fdc369ba-18c2-4b0f-9124-3aac1c866fa7",
   "metadata": {},
   "outputs": [
    {
     "name": "stdout",
     "output_type": "stream",
     "text": [
      "0.6786542993014907\n"
     ]
    }
   ],
   "source": [
    "print(a/b)"
   ]
  },
  {
   "cell_type": "code",
   "execution_count": 29,
   "id": "35308f70-4114-4919-8742-9afad0dd05b6",
   "metadata": {},
   "outputs": [
    {
     "name": "stdout",
     "output_type": "stream",
     "text": [
      "0.6366955517042172\n"
     ]
    }
   ],
   "source": [
    "a=3462\n",
    "b=472\n",
    "c=4.67\n",
    "d=a/b\n",
    "print(c/d)"
   ]
  },
  {
   "cell_type": "markdown",
   "id": "dc1b1e80-36d9-41e0-95ce-2a5db54bf2f7",
   "metadata": {},
   "source": [
    "Modulous..............................."
   ]
  },
  {
   "cell_type": "code",
   "execution_count": 30,
   "id": "20c199a5-ee98-44cc-ae42-0041afed8b33",
   "metadata": {},
   "outputs": [
    {
     "name": "stdout",
     "output_type": "stream",
     "text": [
      "4\n"
     ]
    }
   ],
   "source": [
    "A=34\n",
    "B=5\n",
    "print(A%B)"
   ]
  },
  {
   "cell_type": "code",
   "execution_count": 31,
   "id": "480aa455-942f-4468-9dd7-ae0050e1ab86",
   "metadata": {},
   "outputs": [
    {
     "name": "stdout",
     "output_type": "stream",
     "text": [
      "1.8999999999999995\n"
     ]
    }
   ],
   "source": [
    "x=8.6\n",
    "y=6.7\n",
    "print(x%y)"
   ]
  },
  {
   "cell_type": "code",
   "execution_count": 33,
   "id": "d3ce4dbd-246c-4519-9318-7afe23b0aaa7",
   "metadata": {},
   "outputs": [
    {
     "name": "stdout",
     "output_type": "stream",
     "text": [
      "Variable   Type     Data/Info\n",
      "-----------------------------\n",
      "A          int      34\n",
      "B          int      5\n",
      "a          int      3462\n",
      "b          int      472\n",
      "c          float    4.67\n",
      "d          float    7.334745762711864\n",
      "j          float    16.32\n",
      "k          float    6.8\n",
      "x          float    8.6\n",
      "y          float    6.7\n",
      "z          float    2.4\n"
     ]
    }
   ],
   "source": [
    "%whos"
   ]
  },
  {
   "cell_type": "markdown",
   "id": "b6f9b294-11cd-444b-b69d-ba35d3e9952b",
   "metadata": {},
   "source": [
    "exponent.................."
   ]
  },
  {
   "cell_type": "code",
   "execution_count": 35,
   "id": "3fe35c0c-b528-46a2-901f-19a60eb757a2",
   "metadata": {},
   "outputs": [
    {
     "name": "stdout",
     "output_type": "stream",
     "text": [
      "941192\n"
     ]
    }
   ],
   "source": [
    "a=98\n",
    "print(a**3)"
   ]
  },
  {
   "cell_type": "code",
   "execution_count": 39,
   "id": "ac74f8e2-82ec-42ed-8926-15a5298cd695",
   "metadata": {},
   "outputs": [
    {
     "name": "stdout",
     "output_type": "stream",
     "text": [
      "15.053831967872556\n"
     ]
    }
   ],
   "source": [
    "a=3.43\n",
    "b=2.2\n",
    "print(a**b)"
   ]
  },
  {
   "cell_type": "markdown",
   "id": "01d95b9b-65da-4f96-a195-fd9b3638b5b0",
   "metadata": {},
   "source": [
    "assign............................................................."
   ]
  },
  {
   "cell_type": "code",
   "execution_count": 40,
   "id": "51c0d1e1-4cdb-475e-b2e9-2b6862aee904",
   "metadata": {},
   "outputs": [
    {
     "name": "stdout",
     "output_type": "stream",
     "text": [
      "5\n"
     ]
    }
   ],
   "source": [
    "a=5\n",
    "print(a)"
   ]
  },
  {
   "cell_type": "code",
   "execution_count": 2,
   "id": "17c1f459-0a6e-4495-8f53-0a5232431815",
   "metadata": {},
   "outputs": [
    {
     "name": "stdout",
     "output_type": "stream",
     "text": [
      "3\n",
      "8\n"
     ]
    }
   ],
   "source": [
    "x=3\n",
    "print(x)\n",
    "x+=5\n",
    "print(x)"
   ]
  },
  {
   "cell_type": "code",
   "execution_count": 4,
   "id": "b5524fc0-9f53-4db3-8a52-b96ac9a49463",
   "metadata": {},
   "outputs": [
    {
     "name": "stdout",
     "output_type": "stream",
     "text": [
      "7\n"
     ]
    }
   ],
   "source": [
    "x=7\n",
    "print(x)"
   ]
  },
  {
   "cell_type": "code",
   "execution_count": 5,
   "id": "1e6048f0-1650-4839-a589-622c7f665687",
   "metadata": {},
   "outputs": [],
   "source": [
    "x-=3"
   ]
  },
  {
   "cell_type": "code",
   "execution_count": 6,
   "id": "04db8b7d-a76f-4c2d-ac47-552ca3892751",
   "metadata": {},
   "outputs": [
    {
     "name": "stdout",
     "output_type": "stream",
     "text": [
      "4\n"
     ]
    }
   ],
   "source": [
    "print(x)"
   ]
  },
  {
   "cell_type": "markdown",
   "id": "8596d27f-0e5b-4e0f-94ec-81a0f1a4a9e2",
   "metadata": {},
   "source": [
    "comparison (value given in boolen)"
   ]
  },
  {
   "cell_type": "code",
   "execution_count": 7,
   "id": "551d25a5-bc2b-49b9-82fb-53b8d558d3ce",
   "metadata": {},
   "outputs": [],
   "source": [
    "x=9\n",
    "y=3"
   ]
  },
  {
   "cell_type": "code",
   "execution_count": 8,
   "id": "0328b666-e2b2-4dd4-99dc-0083f623d986",
   "metadata": {},
   "outputs": [
    {
     "data": {
      "text/plain": [
       "False"
      ]
     },
     "execution_count": 8,
     "metadata": {},
     "output_type": "execute_result"
    }
   ],
   "source": [
    "x==y"
   ]
  },
  {
   "cell_type": "code",
   "execution_count": 9,
   "id": "55e87c76-44dd-4122-84ca-be6d486d3059",
   "metadata": {},
   "outputs": [
    {
     "data": {
      "text/plain": [
       "True"
      ]
     },
     "execution_count": 9,
     "metadata": {},
     "output_type": "execute_result"
    }
   ],
   "source": [
    "x!=y"
   ]
  },
  {
   "cell_type": "code",
   "execution_count": 10,
   "id": "bdf84fd5-106c-47d2-9f92-403abd5f36a5",
   "metadata": {},
   "outputs": [
    {
     "data": {
      "text/plain": [
       "True"
      ]
     },
     "execution_count": 10,
     "metadata": {},
     "output_type": "execute_result"
    }
   ],
   "source": [
    "x>y"
   ]
  },
  {
   "cell_type": "code",
   "execution_count": 11,
   "id": "aa1cb237-c256-4e10-afc8-8a02d952f9c8",
   "metadata": {},
   "outputs": [
    {
     "data": {
      "text/plain": [
       "False"
      ]
     },
     "execution_count": 11,
     "metadata": {},
     "output_type": "execute_result"
    }
   ],
   "source": [
    "x<y"
   ]
  },
  {
   "cell_type": "code",
   "execution_count": 12,
   "id": "894250c7-27b6-4c27-98ab-92262b330199",
   "metadata": {},
   "outputs": [
    {
     "data": {
      "text/plain": [
       "True"
      ]
     },
     "execution_count": 12,
     "metadata": {},
     "output_type": "execute_result"
    }
   ],
   "source": [
    "x>=y"
   ]
  },
  {
   "cell_type": "code",
   "execution_count": 13,
   "id": "9c6355c1-e73c-41fb-a0a7-2dce52abed77",
   "metadata": {},
   "outputs": [
    {
     "data": {
      "text/plain": [
       "False"
      ]
     },
     "execution_count": 13,
     "metadata": {},
     "output_type": "execute_result"
    }
   ],
   "source": [
    "x<=y"
   ]
  },
  {
   "cell_type": "markdown",
   "id": "3a68173c-8fc3-49de-ae6a-c747eef9b5d7",
   "metadata": {},
   "source": [
    "logical operators"
   ]
  },
  {
   "cell_type": "code",
   "execution_count": 14,
   "id": "7f7706c1-1987-45f9-abce-280441090a20",
   "metadata": {},
   "outputs": [
    {
     "name": "stdout",
     "output_type": "stream",
     "text": [
      "True\n"
     ]
    }
   ],
   "source": [
    "x=10\n",
    "y=9\n",
    "print(x==10 and y==9)"
   ]
  },
  {
   "cell_type": "code",
   "execution_count": 15,
   "id": "21d145b6-8825-46c0-9f80-b27c08bd2696",
   "metadata": {},
   "outputs": [
    {
     "name": "stdout",
     "output_type": "stream",
     "text": [
      "True\n"
     ]
    }
   ],
   "source": [
    "print(x==10 or y>x)"
   ]
  },
  {
   "cell_type": "code",
   "execution_count": 16,
   "id": "cf212c9f-6d3c-4abf-8adc-4a9f7fe5644f",
   "metadata": {},
   "outputs": [
    {
     "name": "stdout",
     "output_type": "stream",
     "text": [
      "False\n"
     ]
    }
   ],
   "source": [
    "print(x==10 and y>x)"
   ]
  },
  {
   "cell_type": "code",
   "execution_count": 17,
   "id": "e544242e-0334-4f66-85b5-64acb2880341",
   "metadata": {},
   "outputs": [
    {
     "name": "stdout",
     "output_type": "stream",
     "text": [
      "False\n"
     ]
    }
   ],
   "source": [
    "print(x!=10)"
   ]
  },
  {
   "cell_type": "code",
   "execution_count": 18,
   "id": "e966f2ac-502e-4d88-a762-4e6af20e140b",
   "metadata": {},
   "outputs": [
    {
     "name": "stdout",
     "output_type": "stream",
     "text": [
      "True\n"
     ]
    }
   ],
   "source": [
    "print(not x!=10)"
   ]
  },
  {
   "cell_type": "markdown",
   "id": "97d40e82-58a8-4d23-b572-d3759c76395f",
   "metadata": {},
   "source": [
    "membership operators(find the value )"
   ]
  },
  {
   "cell_type": "code",
   "execution_count": 26,
   "id": "db1a8b10-c859-4ef0-b91a-67198d52b2f1",
   "metadata": {},
   "outputs": [
    {
     "name": "stdout",
     "output_type": "stream",
     "text": [
      "hello sapna\n"
     ]
    }
   ],
   "source": [
    "x='sapna'\n",
    "print(x)"
   ]
  },
  {
   "cell_type": "code",
   "execution_count": 32,
   "id": "05b735d6-2735-419f-aed8-e4bbc3fe8f13",
   "metadata": {},
   "outputs": [
    {
     "ename": "NameError",
     "evalue": "name 's' is not defined",
     "output_type": "error",
     "traceback": [
      "\u001b[1;31m---------------------------------------------------------------------------\u001b[0m",
      "\u001b[1;31mNameError\u001b[0m                                 Traceback (most recent call last)",
      "Cell \u001b[1;32mIn[32], line 1\u001b[0m\n\u001b[1;32m----> 1\u001b[0m \u001b[38;5;28mprint\u001b[39m(s \u001b[38;5;129;01mnot\u001b[39;00m \u001b[38;5;129;01min\u001b[39;00m x)\n",
      "\u001b[1;31mNameError\u001b[0m: name 's' is not defined"
     ]
    }
   ],
   "source": [
    "print(s in x)"
   ]
  },
  {
   "cell_type": "code",
   "execution_count": 33,
   "id": "800fe734-c4e7-437a-9c8e-1a5dced1fac3",
   "metadata": {},
   "outputs": [
    {
     "ename": "NameError",
     "evalue": "name 'H' is not defined",
     "output_type": "error",
     "traceback": [
      "\u001b[1;31m---------------------------------------------------------------------------\u001b[0m",
      "\u001b[1;31mNameError\u001b[0m                                 Traceback (most recent call last)",
      "Cell \u001b[1;32mIn[33], line 2\u001b[0m\n\u001b[0;32m      1\u001b[0m string1\u001b[38;5;241m=\u001b[39m\u001b[38;5;124m\"\u001b[39m\u001b[38;5;124mHello\u001b[39m\u001b[38;5;124m\"\u001b[39m\n\u001b[1;32m----> 2\u001b[0m \u001b[38;5;28mprint\u001b[39m(H \u001b[38;5;129;01min\u001b[39;00m string1)\n",
      "\u001b[1;31mNameError\u001b[0m: name 'H' is not defined"
     ]
    }
   ],
   "source": [
    "string1=\"Hello\"\n",
    "print(H in string1)"
   ]
  },
  {
   "cell_type": "markdown",
   "id": "f1ffd69e-0010-41a2-8985-598ea6aaacfe",
   "metadata": {},
   "source": [
    "identify operators"
   ]
  },
  {
   "cell_type": "code",
   "execution_count": 35,
   "id": "5d48f84b-934b-4d22-b3a2-de249fde9853",
   "metadata": {},
   "outputs": [
    {
     "name": "stdout",
     "output_type": "stream",
     "text": [
      "False False\n"
     ]
    }
   ],
   "source": [
    "x=34\n",
    "y=78\n",
    "print(x==y , x is y)"
   ]
  },
  {
   "cell_type": "code",
   "execution_count": 36,
   "id": "aa5eadbc-7bac-491f-b9da-e852298c6c8a",
   "metadata": {},
   "outputs": [
    {
     "name": "stdout",
     "output_type": "stream",
     "text": [
      "True True\n"
     ]
    }
   ],
   "source": [
    "print(x is not y , x!=y)"
   ]
  },
  {
   "cell_type": "markdown",
   "id": "54609607-bb14-4ba9-8805-7bb7b6c1e6b4",
   "metadata": {},
   "source": [
    "bitwise operators according to truth table "
   ]
  },
  {
   "cell_type": "code",
   "execution_count": 37,
   "id": "bab79b4b-3ed8-4b7e-b3a8-a1086f34cdfd",
   "metadata": {},
   "outputs": [
    {
     "name": "stdout",
     "output_type": "stream",
     "text": [
      "0b10100\n"
     ]
    }
   ],
   "source": [
    "x=20\n",
    "y=12\n",
    "print(bin(x))"
   ]
  },
  {
   "cell_type": "code",
   "execution_count": 38,
   "id": "c1f7a475-03a7-4083-a9eb-7307a2de57c6",
   "metadata": {},
   "outputs": [
    {
     "name": "stdout",
     "output_type": "stream",
     "text": [
      "0b1100\n"
     ]
    }
   ],
   "source": [
    "print(bin(y))"
   ]
  },
  {
   "cell_type": "code",
   "execution_count": 39,
   "id": "5989ca49-343a-4e7d-8cfe-3834ee3cff95",
   "metadata": {},
   "outputs": [
    {
     "name": "stdout",
     "output_type": "stream",
     "text": [
      "4\n"
     ]
    }
   ],
   "source": [
    "print(x&y)"
   ]
  },
  {
   "cell_type": "code",
   "execution_count": 41,
   "id": "d5039c3c-210c-4e4c-80b4-d2de8ec5a895",
   "metadata": {},
   "outputs": [
    {
     "name": "stdout",
     "output_type": "stream",
     "text": [
      "0b100\n"
     ]
    }
   ],
   "source": [
    "print(bin(x&y))"
   ]
  },
  {
   "cell_type": "code",
   "execution_count": 42,
   "id": "5d6fd6d5-3a0b-4030-90b7-1f9495d6c71c",
   "metadata": {},
   "outputs": [
    {
     "name": "stdout",
     "output_type": "stream",
     "text": [
      "0b100 4\n"
     ]
    }
   ],
   "source": [
    "print(bin(x&y),(x&y))"
   ]
  },
  {
   "cell_type": "code",
   "execution_count": 50,
   "id": "b1098f91-f53c-454b-894e-d0c94ed511ee",
   "metadata": {},
   "outputs": [
    {
     "name": "stdout",
     "output_type": "stream",
     "text": [
      "0b11000 24\n"
     ]
    }
   ],
   "source": [
    "print(bin(x^y),x^y)"
   ]
  },
  {
   "cell_type": "code",
   "execution_count": 52,
   "id": "7742e76d-6ca8-4c91-8f03-19d85b2e26b7",
   "metadata": {},
   "outputs": [
    {
     "ename": "TypeError",
     "evalue": "'float' object cannot be interpreted as an integer",
     "output_type": "error",
     "traceback": [
      "\u001b[1;31m---------------------------------------------------------------------------\u001b[0m",
      "\u001b[1;31mTypeError\u001b[0m                                 Traceback (most recent call last)",
      "Cell \u001b[1;32mIn[52], line 1\u001b[0m\n\u001b[1;32m----> 1\u001b[0m \u001b[38;5;28mprint\u001b[39m(\u001b[38;5;28mbin\u001b[39m(x\u001b[38;5;241m/\u001b[39my),(x\u001b[38;5;241m/\u001b[39my))\n",
      "\u001b[1;31mTypeError\u001b[0m: 'float' object cannot be interpreted as an integer"
     ]
    }
   ],
   "source": [
    "print(bin(x/y),(x/y))"
   ]
  },
  {
   "cell_type": "code",
   "execution_count": null,
   "id": "82cfd06f-0a2a-482c-a4f8-693877686feb",
   "metadata": {},
   "outputs": [],
   "source": []
  }
 ],
 "metadata": {
  "kernelspec": {
   "display_name": "Python 3 (ipykernel)",
   "language": "python",
   "name": "python3"
  },
  "language_info": {
   "codemirror_mode": {
    "name": "ipython",
    "version": 3
   },
   "file_extension": ".py",
   "mimetype": "text/x-python",
   "name": "python",
   "nbconvert_exporter": "python",
   "pygments_lexer": "ipython3",
   "version": "3.11.7"
  }
 },
 "nbformat": 4,
 "nbformat_minor": 5
}
