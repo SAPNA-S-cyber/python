{
 "cells": [
  {
   "cell_type": "code",
   "execution_count": 1,
   "id": "0447ab9e-9038-43a0-a7bc-f85ee9b1636a",
   "metadata": {},
   "outputs": [
    {
     "name": "stdout",
     "output_type": "stream",
     "text": [
      " m kisi ki baat nahi manti\n"
     ]
    }
   ],
   "source": [
    "print(\" m kisi ki baat nahi manti\")"
   ]
  },
  {
   "cell_type": "code",
   "execution_count": null,
   "id": "10c00f79-a17f-4e80-a5d0-93f5a8f488b3",
   "metadata": {},
   "outputs": [],
   "source": []
  }
 ],
 "metadata": {
  "kernelspec": {
   "display_name": "Python 3 (ipykernel)",
   "language": "python",
   "name": "python3"
  },
  "language_info": {
   "codemirror_mode": {
    "name": "ipython",
    "version": 3
   },
   "file_extension": ".py",
   "mimetype": "text/x-python",
   "name": "python",
   "nbconvert_exporter": "python",
   "pygments_lexer": "ipython3",
   "version": "3.11.7"
  }
 },
 "nbformat": 4,
 "nbformat_minor": 5
}
