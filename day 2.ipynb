{
 "cells": [
  {
   "cell_type": "markdown",
   "id": "798e1346-c6a7-4cd2-9b86-727c39f450e7",
   "metadata": {},
   "source": [
    " control flow statements in python "
   ]
  },
  {
   "cell_type": "markdown",
   "id": "c91bc407-1ce4-4494-965d-bb54436f00b1",
   "metadata": {},
   "source": [
    "if condition............................."
   ]
  },
  {
   "cell_type": "markdown",
   "id": "d6edbcd8-09b4-4d61-9ff9-85097597c81c",
   "metadata": {},
   "source": [
    "'''write the program to calculate the percentage of the student in the subjects maths,english ,science,hindi.ask the user to give the input'''''''"
   ]
  },
  {
   "cell_type": "code",
   "execution_count": 1,
   "id": "24592eff-8eae-49af-969d-497582787720",
   "metadata": {},
   "outputs": [
    {
     "name": "stdin",
     "output_type": "stream",
     "text": [
      "enter the name of a student sapna\n",
      "enter the marks scored in english 87\n",
      "enter the marks scored in hindi 98\n",
      "enter the marks scored in maths 99\n",
      "enter the marks scored in science 89\n"
     ]
    },
    {
     "name": "stdout",
     "output_type": "stream",
     "text": [
      "percent scored by the student sapna is 74.6 %\n"
     ]
    }
   ],
   "source": [
    "x=input(\"enter the name of a student\")\n",
    "a=input(\"enter the marks scored in english\")\n",
    "b=input(\"enter the marks scored in hindi\")\n",
    "c=input(\"enter the marks scored in maths\")\n",
    "d=input(\"enter the marks scored in science\")\n",
    "p=int(a)+int(b)+int(c)+int(d)\n",
    "n=(p/500)*100\n",
    "print(\"percent scored by the student\", x, \"is\", n,\"%\")"
   ]
  },
  {
   "cell_type": "code",
   "execution_count": null,
   "id": "d08f2fd2-7901-415a-a19e-459d31ba8f7e",
   "metadata": {},
   "outputs": [],
   "source": [
    "for example,assigning grades(A, B, C) based on marks obtained by a student\n",
    "if the percentage is above 90, assign grade A\n",
    "if the percentage is above 75, assign grade B\n",
    "if the percentage is above 65, assign grade C"
   ]
  },
  {
   "cell_type": "code",
   "execution_count": 3,
   "id": "61c1f50e-2551-41bc-83f2-be906f216bd3",
   "metadata": {},
   "outputs": [
    {
     "name": "stdin",
     "output_type": "stream",
     "text": [
      "enter the marks scored by a student 78\n"
     ]
    },
    {
     "name": "stdout",
     "output_type": "stream",
     "text": [
      "student has obtained B grade\n",
      "student has obtained C grade\n"
     ]
    }
   ],
   "source": [
    "a=int(input(\"enter the marks scored by a student\"))\n",
    "if a>=90:\n",
    "    print(\"student has obtained A grade\")\n",
    "if a>=75:\n",
    "    print(\"student has obtained B grade\")\n",
    "if a>=65:\n",
    "    print(\"student has obtained C grade\")"
   ]
  },
  {
   "cell_type": "markdown",
   "id": "4dd57155-965b-46a5-b802-fa60af42e79e",
   "metadata": {},
   "source": [
    "if else statement"
   ]
  },
  {
   "cell_type": "markdown",
   "id": "d608b49e-be5c-4e30-a643-85ee6ad05fe3",
   "metadata": {},
   "source": [
    "write a program to display \"hello\" if the number entered by a user is a multiple of 5 other wise print \"bye\""
   ]
  },
  {
   "cell_type": "code",
   "execution_count": 6,
   "id": "a597fe3c-dd55-47bd-a0bb-7000638313bc",
   "metadata": {},
   "outputs": [
    {
     "name": "stdin",
     "output_type": "stream",
     "text": [
      "enter the number 35\n"
     ]
    },
    {
     "name": "stdout",
     "output_type": "stream",
     "text": [
      "hello\n"
     ]
    }
   ],
   "source": [
    "a=int(input(\"enter the number\"))\n",
    "if a%5==0:\n",
    "      print(\"hello\")\n",
    "else:\n",
    "    print(\"bye\")"
   ]
  },
  {
   "cell_type": "code",
   "execution_count": 7,
   "id": "715369c6-8b05-4f94-abdb-28fb0a7d5b90",
   "metadata": {},
   "outputs": [
    {
     "name": "stdin",
     "output_type": "stream",
     "text": [
      "enter the number 67\n"
     ]
    },
    {
     "name": "stdout",
     "output_type": "stream",
     "text": [
      "bye\n"
     ]
    }
   ],
   "source": [
    "a=int(input(\"enter the number\"))\n",
    "if a%5==0:\n",
    "    print(\"hello\")\n",
    "else:\n",
    "    print(\"bye\")"
   ]
  },
  {
   "cell_type": "code",
   "execution_count": 11,
   "id": "912e116a-d936-4526-ad85-170e63f30b7f",
   "metadata": {},
   "outputs": [
    {
     "name": "stdin",
     "output_type": "stream",
     "text": [
      "enter the number 89\n"
     ]
    },
    {
     "name": "stdout",
     "output_type": "stream",
     "text": [
      "bye\n"
     ]
    }
   ],
   "source": [
    "a=int(input(\"enter the number\"))\n",
    "if a%5==0:\n",
    "    print(\"hello\")\n",
    "else:\n",
    "     print(\"bye\")"
   ]
  },
  {
   "cell_type": "markdown",
   "id": "86094e18-c7c7-4641-9eb6-7231241cab4d",
   "metadata": {},
   "source": [
    "write a program to cheack whether a person is eligible for voting or not "
   ]
  },
  {
   "cell_type": "code",
   "execution_count": 13,
   "id": "74a3ab91-4a82-4878-b50e-96e2cbabd204",
   "metadata": {},
   "outputs": [
    {
     "name": "stdin",
     "output_type": "stream",
     "text": [
      "enter the age of person 43\n"
     ]
    },
    {
     "name": "stdout",
     "output_type": "stream",
     "text": [
      "you are eligible for voting\n"
     ]
    }
   ],
   "source": [
    "age= int(input(\"enter the age of person\"))\n",
    "if age>=18:\n",
    "    print(\"you are eligible for voting\")\n",
    "else:\n",
    "    print(\"you are not eligible for voting\")"
   ]
  },
  {
   "cell_type": "code",
   "execution_count": 14,
   "id": "9bb14cea-1637-4f4b-a1c2-aace169b1fcc",
   "metadata": {},
   "outputs": [
    {
     "name": "stdin",
     "output_type": "stream",
     "text": [
      "enter the age of person 12\n"
     ]
    },
    {
     "name": "stdout",
     "output_type": "stream",
     "text": [
      "you are not eligible for voting\n"
     ]
    }
   ],
   "source": [
    "age= int(input(\"enter the age of person\"))\n",
    "if age>=18:\n",
    "    print(\"you are eligible for voting\")\n",
    "else:\n",
    "    print(\"you are not eligible for voting\")"
   ]
  },
  {
   "cell_type": "markdown",
   "id": "b7ffeb51-dd92-40aa-b694-522e70edd72c",
   "metadata": {},
   "source": [
    "write a program to check wether the person is eligible for driving license or not\n",
    "        "
   ]
  },
  {
   "cell_type": "code",
   "execution_count": 2,
   "id": "392bd3a7-4592-4529-a752-3c55c8c38104",
   "metadata": {},
   "outputs": [
    {
     "name": "stdin",
     "output_type": "stream",
     "text": [
      "enter the age of person 4\n"
     ]
    },
    {
     "name": "stdout",
     "output_type": "stream",
     "text": [
      "no\n"
     ]
    }
   ],
   "source": [
    "age=int(input(\"enter the age of person\"))\n",
    "if age>=18:\n",
    "    print(\"yes\")\n",
    "else:\n",
    "    print(\"no\")"
   ]
  },
  {
   "cell_type": "code",
   "execution_count": 3,
   "id": "5d5c29dc-7f3d-4c30-9d75-f0c60bbffa1d",
   "metadata": {},
   "outputs": [
    {
     "name": "stdin",
     "output_type": "stream",
     "text": [
      "enter the age of person 34\n"
     ]
    },
    {
     "name": "stdout",
     "output_type": "stream",
     "text": [
      "yes\n"
     ]
    }
   ],
   "source": [
    "age=int(input(\"enter the age of person\"))\n",
    "if age>=18:\n",
    "    print(\"yes\")\n",
    "else:\n",
    "    print(\"no\")"
   ]
  },
  {
   "cell_type": "markdown",
   "id": "09117178-97b7-4978-8d0b-5357de59c52c",
   "metadata": {},
   "source": [
    "exercise................................"
   ]
  },
  {
   "cell_type": "markdown",
   "id": "f64ad618-88c7-4d6d-8fb8-1f02608a5cb6",
   "metadata": {},
   "source": [
    " Ask for two numbers. If the first one is larger than the \n",
    "second, display the second number first and then the first \n",
    "number, otherwise show the first number first and then the \n",
    "second"
   ]
  },
  {
   "cell_type": "code",
   "execution_count": 5,
   "id": "f22665a6-5154-479a-974c-fd51f9f1856d",
   "metadata": {},
   "outputs": [
    {
     "name": "stdin",
     "output_type": "stream",
     "text": [
      "enter the number 6\n"
     ]
    },
    {
     "name": "stdout",
     "output_type": "stream",
     "text": [
      "5\n"
     ]
    }
   ],
   "source": [
    "number=int(input(\"enter the number\"))\n",
    "if number>=5:\n",
    "    print(5)\n",
    "else:\n",
    "    print(7)"
   ]
  },
  {
   "cell_type": "markdown",
   "id": "56068c12-33c4-4eb4-a151-cd281cc8b2d8",
   "metadata": {},
   "source": [
    " Ask the user to enter a number that is under 20. If they \n",
    "enter a number that is 20 or more, display the message “Too \n",
    "high”, otherwise display “Thank you”.\n",
    "\n"
   ]
  },
  {
   "cell_type": "code",
   "execution_count": 6,
   "id": "e6027749-fa53-4f05-8eb3-f3f763c5ddb8",
   "metadata": {},
   "outputs": [
    {
     "name": "stdin",
     "output_type": "stream",
     "text": [
      "enter the number 34\n"
     ]
    },
    {
     "name": "stdout",
     "output_type": "stream",
     "text": [
      "too high\n"
     ]
    }
   ],
   "source": [
    "number=int(input(\"enter the number\"))\n",
    "if number>=20:\n",
    "    print(\"too high\")\n",
    "else:\n",
    "    print(\"thank you\")\n"
   ]
  },
  {
   "cell_type": "code",
   "execution_count": 7,
   "id": "e5d20a30-28b3-49c4-9e64-fc12a919959d",
   "metadata": {},
   "outputs": [
    {
     "name": "stdin",
     "output_type": "stream",
     "text": [
      "enter the number 13\n"
     ]
    },
    {
     "name": "stdout",
     "output_type": "stream",
     "text": [
      "thank you\n"
     ]
    }
   ],
   "source": [
    "number=int(input(\"enter the number\"))\n",
    "if number>=20:\n",
    "    print(\"too high\")\n",
    "else:\n",
    "    print(\"thank you\")"
   ]
  },
  {
   "cell_type": "markdown",
   "id": "bf31c6b5-1441-4c2d-8485-33206d4cc826",
   "metadata": {},
   "source": [
    " Ask the user to enter a number between 10 and 20 \n",
    "(inclusive). If they enter a number within this range, display the \n",
    "message “Thank you”, otherwise display the message \n",
    "“Incorrect answer”."
   ]
  },
  {
   "cell_type": "code",
   "execution_count": null,
   "id": "0a59b2c8-fb4c-4612-8f96-418d8e7b4730",
   "metadata": {},
   "outputs": [],
   "source": []
  },
  {
   "cell_type": "code",
   "execution_count": 23,
   "id": "6303cf78-ee20-4add-a0dc-f22e413280d3",
   "metadata": {},
   "outputs": [
    {
     "ename": "SyntaxError",
     "evalue": "expected ':' (961271134.py, line 5)",
     "output_type": "error",
     "traceback": [
      "\u001b[1;36m  Cell \u001b[1;32mIn[23], line 5\u001b[1;36m\u001b[0m\n\u001b[1;33m    else  (i>=10):\u001b[0m\n\u001b[1;37m          ^\u001b[0m\n\u001b[1;31mSyntaxError\u001b[0m\u001b[1;31m:\u001b[0m expected ':'\n"
     ]
    }
   ],
   "source": [
    "i=20\n",
    "numbers=int(input(\"enter the number\"))\n",
    "if (i>=10):\n",
    "    print(\"thankyou\")\n",
    "else  (i>=10):\n",
    "    print(\"incorrect number\")"
   ]
  },
  {
   "cell_type": "code",
   "execution_count": 27,
   "id": "328853cf-3309-4d5a-926f-272c9fc20149",
   "metadata": {},
   "outputs": [
    {
     "name": "stdin",
     "output_type": "stream",
     "text": [
      "enter the number 13\n"
     ]
    },
    {
     "name": "stdout",
     "output_type": "stream",
     "text": [
      "thankyou\n"
     ]
    }
   ],
   "source": [
    "number=int(input(\"enter the number\"))\n",
    "# check if the number is within the:\n",
    "if 10<= number <=20:\n",
    "    print(\"thankyou\")\n",
    "else:\n",
    "    print(\"incorrect number\")"
   ]
  },
  {
   "cell_type": "code",
   "execution_count": 28,
   "id": "ce6655b7-c0ca-488d-ad1e-179d77ef5df8",
   "metadata": {},
   "outputs": [
    {
     "name": "stdin",
     "output_type": "stream",
     "text": [
      "enter the number 23\n"
     ]
    },
    {
     "name": "stdout",
     "output_type": "stream",
     "text": [
      "incorrect number\n"
     ]
    }
   ],
   "source": [
    "number=int(input(\"enter the number\"))\n",
    "# check if the number is within the:\n",
    "if 10<= number <=20:\n",
    "    print(\"thankyou\")\n",
    "else:\n",
    "    print(\"incorrect number\")"
   ]
  },
  {
   "cell_type": "markdown",
   "id": "e88c897b-29d6-4cc8-94ad-f26ac57307e7",
   "metadata": {},
   "source": [
    " Ask the user to enter their favourite colour. If they enter \n",
    "“red”, “RED” or “Red” display the message “I like red too”, \n",
    "otherwise display the message “I don’t like [colour], I prefer \n",
    "red”"
   ]
  },
  {
   "cell_type": "code",
   "execution_count": 33,
   "id": "366ded69-8324-44c3-84a2-f379e4db6bfe",
   "metadata": {},
   "outputs": [
    {
     "name": "stdin",
     "output_type": "stream",
     "text": [
      "enter the favourite colour white\n"
     ]
    },
    {
     "name": "stdout",
     "output_type": "stream",
     "text": [
      "i don't like this colour\n"
     ]
    }
   ],
   "source": [
    "colour=input(\"enter the favourite colour\")\n",
    "if colour==\"red\":\n",
    "    print(\"i like red colour\")\n",
    "else:\n",
    "    print(\"i don't like this colour\")"
   ]
  },
  {
   "cell_type": "code",
   "execution_count": 34,
   "id": "efaee869-b39b-4f43-be5e-48f8493214dd",
   "metadata": {},
   "outputs": [
    {
     "name": "stdin",
     "output_type": "stream",
     "text": [
      "enter the favourite colour red\n"
     ]
    },
    {
     "name": "stdout",
     "output_type": "stream",
     "text": [
      "i like red colour\n"
     ]
    }
   ],
   "source": [
    "colour=input(\"enter the favourite colour\")\n",
    "if colour==\"red\":\n",
    "    print(\"i like red colour\")\n",
    "else:\n",
    "    print(\"i don't like this colour\")"
   ]
  },
  {
   "cell_type": "markdown",
   "id": "6c4d818b-0e66-4fdf-9e75-e564c5914706",
   "metadata": {},
   "source": [
    " Ask the user if it is raining and convert their answer to \n",
    "lower case so it doesn’t matter what case they type it in. If they \n",
    "answer “yes”, ask if it is windy. If they answer “yes” to this \n",
    "second question, display the answer “It is too windy for an \n",
    "umbrella”, otherwise display the message “Take an umbrella”. If \n",
    "they did not answer yes to the first question, display the \n",
    "answer “Enjoy your day”"
   ]
  },
  {
   "cell_type": "code",
   "execution_count": null,
   "id": "394b0ba1-8971-497e-b892-ed28403becf7",
   "metadata": {},
   "outputs": [],
   "source": []
  },
  {
   "cell_type": "code",
   "execution_count": null,
   "id": "1f211d60-9957-4908-a3d0-f5a62b1ecedf",
   "metadata": {},
   "outputs": [],
   "source": []
  },
  {
   "cell_type": "markdown",
   "id": "75ceb7f2-ef45-4c04-8e66-ef0ba363c4b6",
   "metadata": {},
   "source": [
    "Ask the user’s age. If they are 18 or over, display the \n",
    "message “You can vote”, if they are aged 17, display the \n",
    "message “You can learn to drive”, if they are 16, display the \n",
    "message “You can buy a lottery ticket”, if they are under 16, \n",
    "display the message “You can go Trick-or-Treating”."
   ]
  },
  {
   "cell_type": "code",
   "execution_count": 3,
   "id": "fdbe42aa-d2a8-41d9-9aaf-23bef685f855",
   "metadata": {},
   "outputs": [
    {
     "name": "stdin",
     "output_type": "stream",
     "text": [
      "enter the age 12\n"
     ]
    },
    {
     "name": "stdout",
     "output_type": "stream",
     "text": [
      "you can go trick-or-treating\n"
     ]
    }
   ],
   "source": [
    "age=int(input(\"enter the age\"))\n",
    "if age>=18:\n",
    "        print(\"you can vote\")\n",
    "if age==17:\n",
    "        print(\"you can learn to drive\")\n",
    "if age==16:\n",
    "        print(\"you can buy a lottery ticket\")\n",
    "if age<=16:\n",
    "        print(\"you can go trick-or-treating\")"
   ]
  },
  {
   "cell_type": "code",
   "execution_count": 4,
   "id": "19066f09-890f-4db8-98e9-37aee3f07e16",
   "metadata": {},
   "outputs": [
    {
     "name": "stdin",
     "output_type": "stream",
     "text": [
      "enter the age 18\n"
     ]
    },
    {
     "name": "stdout",
     "output_type": "stream",
     "text": [
      "you can vote\n"
     ]
    }
   ],
   "source": [
    "age=int(input(\"enter the age\"))\n",
    "if age>=18:\n",
    "        print(\"you can vote\")\n",
    "if age==17:\n",
    "        print(\"you can learn to drive\")\n",
    "if age==16:\n",
    "        print(\"you can buy a lottery ticket\")\n",
    "if age<=16:\n",
    "        print(\"you can go trick-or-treating\")"
   ]
  },
  {
   "cell_type": "markdown",
   "id": "7bf11b58-327a-4528-be33-b9941a53dab8",
   "metadata": {},
   "source": [
    " Ask the user to enter a number. If it is under 10, display the \n",
    "message “Too low”, if their number is between 10 and 20, \n",
    "display “Correct”, otherwise display “Too high”."
   ]
  },
  {
   "cell_type": "code",
   "execution_count": 13,
   "id": "85bd9067-65c5-4c7c-80d9-b775e06715d3",
   "metadata": {},
   "outputs": [
    {
     "name": "stdin",
     "output_type": "stream",
     "text": [
      "enter the number 23\n"
     ]
    },
    {
     "name": "stdout",
     "output_type": "stream",
     "text": [
      "too high\n"
     ]
    }
   ],
   "source": [
    "number=int(input(\"enter the number\"))\n",
    "if number<=10:\n",
    "    print(\"too low\")\n",
    "if 10<=number<=20:\n",
    "    print(\"correct\")\n",
    "else:\n",
    "    print(\"too high\")"
   ]
  },
  {
   "cell_type": "code",
   "execution_count": 15,
   "id": "bdfa25be-143c-47a0-ba39-a499443adfa2",
   "metadata": {},
   "outputs": [
    {
     "name": "stdin",
     "output_type": "stream",
     "text": [
      "enter the number 6\n"
     ]
    },
    {
     "name": "stdout",
     "output_type": "stream",
     "text": [
      "too low\n"
     ]
    }
   ],
   "source": [
    "number=int(input(\"enter the number\"))\n",
    "if number<=10:\n",
    "    print(\"too low\")\n",
    "elif 10<=number<=20:\n",
    "    print(\"correct\")\n",
    "else:\n",
    "    print(\"too high\")"
   ]
  },
  {
   "cell_type": "code",
   "execution_count": 16,
   "id": "f1ceb279-0a89-4638-8818-b4e2818a22e1",
   "metadata": {},
   "outputs": [
    {
     "name": "stdin",
     "output_type": "stream",
     "text": [
      "enter the number 15\n"
     ]
    },
    {
     "name": "stdout",
     "output_type": "stream",
     "text": [
      "correct\n"
     ]
    }
   ],
   "source": [
    "number=int(input(\"enter the number\"))\n",
    "if number<=10:\n",
    "    print(\"too low\")\n",
    "elif 10<=number<=20:\n",
    "    print(\"correct\")\n",
    "else:\n",
    "    print(\"too high\")"
   ]
  },
  {
   "cell_type": "markdown",
   "id": "877178f6-8c91-40c1-ac80-856641743f04",
   "metadata": {},
   "source": [
    " Ask the user to enter 1, 2 or 3. If they enter a 1, display the \n",
    "message “Thank you”, if they enter a 2, display “Well done”, if \n",
    "they enter a 3, display “Correct”. If they enter anything else, \n",
    "display “Error message”."
   ]
  },
  {
   "cell_type": "code",
   "execution_count": 17,
   "id": "475bb569-3b56-48bb-aeb3-402005f51a62",
   "metadata": {},
   "outputs": [
    {
     "name": "stdin",
     "output_type": "stream",
     "text": [
      "enter the number 1\n"
     ]
    },
    {
     "name": "stdout",
     "output_type": "stream",
     "text": [
      "thank you\n"
     ]
    }
   ],
   "source": [
    "#ask the user to enter 1,2 or 3.\n",
    "number=int(input(\"enter the number\"))\n",
    "if number==1:\n",
    "    print(\"thank you\")\n",
    "elif number==2:\n",
    "    print(\"well done\")\n",
    "elif number==3:\n",
    "    print(\"correct\")\n",
    "else:\n",
    "    print(\"error message\")"
   ]
  },
  {
   "cell_type": "code",
   "execution_count": 18,
   "id": "0db000d5-836e-4a0c-957e-5c293af62614",
   "metadata": {},
   "outputs": [
    {
     "name": "stdin",
     "output_type": "stream",
     "text": [
      "enter the number 2\n"
     ]
    },
    {
     "name": "stdout",
     "output_type": "stream",
     "text": [
      "well done\n"
     ]
    }
   ],
   "source": [
    "#ask the user to enter 1,2 or 3.\n",
    "number=int(input(\"enter the number\"))\n",
    "if number==1:\n",
    "    print(\"thank you\")\n",
    "elif number==2:\n",
    "    print(\"well done\")\n",
    "elif number==3:\n",
    "    print(\"correct\")\n",
    "else:\n",
    "    print(\"error message\")"
   ]
  },
  {
   "cell_type": "code",
   "execution_count": 19,
   "id": "8d951cb0-29ba-4581-979f-dd3753d8372c",
   "metadata": {},
   "outputs": [
    {
     "name": "stdin",
     "output_type": "stream",
     "text": [
      "enter the number 3\n"
     ]
    },
    {
     "name": "stdout",
     "output_type": "stream",
     "text": [
      "correct\n"
     ]
    }
   ],
   "source": [
    "#ask the user to enter 1,2 or 3.\n",
    "number=int(input(\"enter the number\"))\n",
    "if number==1:\n",
    "    print(\"thank you\")\n",
    "elif number==2:\n",
    "    print(\"well done\")\n",
    "elif number==3:\n",
    "    print(\"correct\")\n",
    "else:\n",
    "    print(\"error message\")"
   ]
  },
  {
   "cell_type": "code",
   "execution_count": 20,
   "id": "325cdae1-5ecf-4c89-8467-30c8024d70bf",
   "metadata": {},
   "outputs": [
    {
     "name": "stdin",
     "output_type": "stream",
     "text": [
      "enter the number 6\n"
     ]
    },
    {
     "name": "stdout",
     "output_type": "stream",
     "text": [
      "error message\n"
     ]
    }
   ],
   "source": [
    "#ask the user to enter 1,2 or 3.\n",
    "number=int(input(\"enter the number\"))\n",
    "if number==1:\n",
    "    print(\"thank you\")\n",
    "elif number==2:\n",
    "    print(\"well done\")\n",
    "elif number==3:\n",
    "    print(\"correct\")\n",
    "else:\n",
    "    print(\"error message\")"
   ]
  },
  {
   "cell_type": "code",
   "execution_count": null,
   "id": "a8e07d70-1d16-4258-aaf4-4b7a35b267e7",
   "metadata": {},
   "outputs": [],
   "source": []
  }
 ],
 "metadata": {
  "kernelspec": {
   "display_name": "Python 3 (ipykernel)",
   "language": "python",
   "name": "python3"
  },
  "language_info": {
   "codemirror_mode": {
    "name": "ipython",
    "version": 3
   },
   "file_extension": ".py",
   "mimetype": "text/x-python",
   "name": "python",
   "nbconvert_exporter": "python",
   "pygments_lexer": "ipython3",
   "version": "3.11.7"
  }
 },
 "nbformat": 4,
 "nbformat_minor": 5
}
